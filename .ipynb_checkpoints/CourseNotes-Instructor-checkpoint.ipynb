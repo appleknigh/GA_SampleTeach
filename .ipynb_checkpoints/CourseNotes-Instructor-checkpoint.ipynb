{
 "cells": [
  {
   "cell_type": "markdown",
   "metadata": {},
   "source": [
    "# GA Sample Teach: Decision Tree - Course Note"
   ]
  },
  {
   "cell_type": "markdown",
   "metadata": {},
   "source": [
    "## Objective\n",
    "\n",
    "*Jamie is a marketing manager who would like to transition to become a Data Scientist. Jamie's current salary is $75k USD, and he would like to know how much he should expect to make as a Data Scientist in the US and Canada.*\n",
    "\n",
    "By the end of the lesson, you will be able to create a regression decision tree model to help Jamie with his question. To doing so, you will:\n",
    "1. [x] **Be able to explain how regression decision tree works to a non-technical audience**\n",
    "2. [x] **Know how to use sklearn package to fit decision tree for regression**"
   ]
  },
  {
   "cell_type": "markdown",
   "metadata": {},
   "source": [
    "Note, <font color=blue> *we will focus on contents written in blue in class*. </font> However, you are expected to read and understand the entire document on your own.\n",
    "\n",
    "For this course, please download the *latest anaconda version*. You would also need to install *graphviz package*. Please contact your instructor if you need help with setup."
   ]
  },
  {
   "cell_type": "markdown",
   "metadata": {},
   "source": [
    "## 1. What is a regression decision tree and how does it work?\n",
    "\n",
    "#### What is it?\n",
    "\n",
    "- <font color=blue>Regression decision tree is an ***algorithm*** that estimates the ***conditional expected value*** of a ***response***, given a set of ***features***.</font>\n",
    "\n",
    "#### How does it work?\n",
    "\n",
    "- <font color=blue>Using the \"if... then... else\" logic, the decision tree splits the data according to a set of conditions and calculate the expected value within each split or ***node***.</font>\n",
    "\n",
    "\n",
    "#### Key terms:\n",
    "\n",
    "- ***Algorithm***: *An automated way to return an output given a set of inputs and parameters.*\n",
    "- ***Conditional expected value***: *the expected value (response) given a certain set of features.*\n",
    "- ***Response***: *The output of a model, generally it is the value that you are interested in predicting.*\n",
    "- ***Features***: *A set of conditions or events that may change the output or response.*\n",
    "- ***Node*** : *Decision tree model is often visualized using a tree diagram, where each node represents the expected value following a split.*"
   ]
  },
  {
   "cell_type": "markdown",
   "metadata": {},
   "source": [
    "### Let's do the following exercise to clarify this concept and see how it works"
   ]
  },
  {
   "cell_type": "markdown",
   "metadata": {},
   "source": [
    "#### Problem: How much should I expect to make as a Data Scientist?\n",
    "\n",
    "To help Jamie, we will use survey data provided by Kaggle, see below for a brief description. You can view the raw data by opening KaggleDSSurvey_GA.csv from the course zip file.\n",
    "\n",
    "    This data contains individuals' salary information for 3362 data scientists, along with other info about the responders such as Gender, education, country of employment, working tenure, etc."
   ]
  },
  {
   "cell_type": "markdown",
   "metadata": {},
   "source": [
    "#### Approach: a) Calculate the average salary reported by all respondents\n",
    "\n",
    "<font color=blue> One way to answer Jamie is by averaging the salary of all respondents. Let's walk through how we would do this. </font>"
   ]
  },
  {
   "cell_type": "code",
   "execution_count": 21,
   "metadata": {},
   "outputs": [
    {
     "name": "stdout",
     "output_type": "stream",
     "text": [
      "The average salary reported by 3362 respondents is $78,652.10\n"
     ]
    }
   ],
   "source": [
    "#Load package and data\n",
    "import numpy as np\n",
    "import pandas as pd\n",
    "df_survey = pd.read_csv('KaggleDSSurvey_GA.csv')\n",
    "\n",
    "#Calculate average salary\n",
    "N_resp = df_survey.shape[0] #Return the number of respondents\n",
    "EV_Salary = df_survey['CompensationUSD'].mean(axis=0) #Return the average salary or expected value\n",
    "\n",
    "print('The average salary reported by {} respondents is ${:,.2f}'.format(N_resp,EV_Salary))"
   ]
  },
  {
   "cell_type": "markdown",
   "metadata": {},
   "source": [
    "#### Approach: b) Using tree algorithm to quantify the average salary for a given set of features\n",
    "\n",
    "We see that the average salary is approximately $79k USD. However, does this apply to Jamie? Considering this:\n",
    "- Jamie will likely start at an entry-level, with <3 year experience\n",
    "- But, Jamie is an experienced manager, he has an MSc in engineering, and he is a dual US/Can citizen\n",
    "\n",
    "<font color=blue>In other words, given Jamie's unique situation, what is Jamie's **conditional expected value**?</font>"
   ]
  },
  {
   "cell_type": "markdown",
   "metadata": {},
   "source": [
    "To answer this question, we could manually segment the data. However, doing so is time-consuming, since we have 9 **features** attached to each member.\n",
    "\n",
    "    Say if you want to choose only 2 variables out of 9 (9c2), that would be 36 combinations, and 9n3 would be 84.\n",
    "\n",
    "<font color=blue>This is where **algorithm** comes in handy. In fact, we can use a regression tree package provided by sklearn to do this very fast. Let's do it together next.</font>"
   ]
  },
  {
   "cell_type": "code",
   "execution_count": 16,
   "metadata": {},
   "outputs": [
    {
     "data": {
      "text/plain": [
       "DecisionTreeRegressor(ccp_alpha=0.0, criterion='mse', max_depth=None,\n",
       "                      max_features=None, max_leaf_nodes=None,\n",
       "                      min_impurity_decrease=0.0, min_impurity_split=None,\n",
       "                      min_samples_leaf=0.05, min_samples_split=2,\n",
       "                      min_weight_fraction_leaf=0.0, presort='deprecated',\n",
       "                      random_state=None, splitter='best')"
      ]
     },
     "execution_count": 16,
     "metadata": {},
     "output_type": "execute_result"
    }
   ],
   "source": [
    "#Split data so that response (salary) and features are stored in y and x variables.\n",
    "y = df_survey['CompensationUSD']\n",
    "x = pd.get_dummies(df_survey.drop('CompensationUSD', axis=1))\n",
    "\n",
    "#Fitting the regression tree\n",
    "from sklearn import tree\n",
    "reg_fit = tree.DecisionTreeRegressor(min_samples_leaf=0.05) #here, we need to specify the min number of samples to terminate a leaf. Play around with this number and see what happens\n",
    "reg_fit.fit(x,y)"
   ]
  },
  {
   "cell_type": "markdown",
   "metadata": {},
   "source": [
    "#### So how does it actually work?\n",
    "\n",
    "Using the survey data, the Tree algorithm automatically searches for ways to branch the data into groups or nodes. The goal here is to create nodes with maximum difference in expected salary.\n",
    "\n",
    "    The algorithm identified the best split that produces the biggest difference. It then continues branching down to get more and more granular. Finally, the search stops when the samples are either small enough, or there is no difference between the nodes.\n",
    "\n",
    "Note that the min_sample_leaf variable specifies the stop criteria. This is not necessary, but for those who like to tinker, setting it at 0.05 means that the split terminates when the sample size within each node < 5% of the total."
   ]
  },
  {
   "cell_type": "markdown",
   "metadata": {},
   "source": [
    "#### Interpretation: US Data Scientists get paid a premium, while management skills become an asset with tenure.\n",
    "    \n",
    "<font color=blue>Let's take a look at the result provided by our regression tree - please open **TreeGraph_Sample.pdf** from the course zip file and follow along.</font>\n",
    "\n",
    "Three key take aways: \n",
    "- **Location** (the first split) is the biggest determinant of your expected salary as a data scientist\n",
    "\n",
    "        $110k US vs. $59k non-US\n",
    "\n",
    "- Regardless of where the job is, the second split depends on your **tenure** or experience and followed by your ability to **influence**.\n",
    "\n",
    "        For US, $150k with >10 yrs experience vs $104k with < 10 yrs experience\n",
    "        For non-US, $89k with >10 yrs experience vs. $52k with < 10 yrs experience\n",
    "        For non-US, $91k  for those with > yrs experience and in position to influence\n",
    "\n",
    "- Lastly, we see that **learning style** has a marginal impact but only at the start when your tenure is < 3 years.\n",
    "\n",
    "        $58k for learners using multiple sources vs. $51k for learners using only one source"
   ]
  },
  {
   "cell_type": "markdown",
   "metadata": {},
   "source": [
    "### <font color=blue>2. Let's test your skills with sklearn</font>"
   ]
  },
  {
   "cell_type": "markdown",
   "metadata": {},
   "source": [
    "#### <font color=blue> Problem: Determine the expected salary for Data Scientists in Canada </font>"
   ]
  },
  {
   "cell_type": "code",
   "execution_count": 10,
   "metadata": {},
   "outputs": [],
   "source": [
    "#Load data and library\n",
    "#Load package and data\n",
    "import numpy as np\n",
    "import pandas as pd\n",
    "\n",
    "df_survey = pd.read_csv('C:/Users/Robert/Documents/CS Documents/GA_SampleTeach/KaggleDSSurveyCAN_GA.csv')"
   ]
  },
  {
   "cell_type": "code",
   "execution_count": 12,
   "metadata": {},
   "outputs": [
    {
     "data": {
      "text/plain": [
       "DecisionTreeRegressor(ccp_alpha=0.0, criterion='mse', max_depth=None,\n",
       "                      max_features=None, max_leaf_nodes=None,\n",
       "                      min_impurity_decrease=0.0, min_impurity_split=None,\n",
       "                      min_samples_leaf=0.05, min_samples_split=2,\n",
       "                      min_weight_fraction_leaf=0.0, presort='deprecated',\n",
       "                      random_state=None, splitter='best')"
      ]
     },
     "execution_count": 12,
     "metadata": {},
     "output_type": "execute_result"
    }
   ],
   "source": [
    "#####PRACTICE########\n",
    "#A) Import sklearn package\n",
    "from _____ import _____\n",
    "\n",
    "#ANSWER: from sklearn import tree\n",
    "\n",
    "#B) Split df_survey to store features in variable x, and response with variable y\n",
    "_ = df_survey['____']\n",
    "_ = pd.get_dummies(df_survey.drop('CompensationUSD', axis=1))\n",
    "\n",
    "#ANSWER:\n",
    "#y = df_survey['CompensationUSD']\n",
    "#x = pd.get_dummies(df_survey.drop('CompensationUSD', axis=1))\n",
    "\n",
    "#C) Fit y and x using the sklearn tree algorithm package, save the model object as reg_fit\n",
    "reg_fit = tree._____()\n",
    "reg_fit.fit(_,_)\n",
    "\n",
    "#ANSWER:\n",
    "#reg_fit = tree.DecisionTreeRegressor(min_samples_leaf=0.05)\n",
    "#reg_fit.fit(x,y)"
   ]
  },
  {
   "cell_type": "markdown",
   "metadata": {},
   "source": [
    "<font color=blue> Once finished run the script below to validate, and visualize your work </font>"
   ]
  },
  {
   "cell_type": "code",
   "execution_count": 13,
   "metadata": {},
   "outputs": [
    {
     "name": "stdout",
     "output_type": "stream",
     "text": [
      "Excellent! You know know the basics to fitting a decision tree.\n",
      "Now, you can open up the image saved on your local hard drive to view the results\n"
     ]
    },
    {
     "data": {
      "image/png": "[encoded data removed]",
      "text/plain": [
       "<Figure size 432x288 with 1 Axes>"
      ]
     },
     "metadata": {
      "needs_background": "light"
     },
     "output_type": "display_data"
    }
   ],
   "source": [
    "#valudation\n",
    "try:\n",
    "    tree.plot_tree(reg_fit,max_depth=1,feature_names=x.columns)\n",
    "    print('Excellent! You now know the basics to fitting a decision tree.')\n",
    "    print('Now, you can open up the image saved on your local hard drive to view the results')\n",
    "except:    \n",
    "    print('Please try again or ask your instructors for help.')"
   ]
  },
  {
   "cell_type": "code",
   "execution_count": 20,
   "metadata": {},
   "outputs": [
    {
     "name": "stdout",
     "output_type": "stream",
     "text": [
      "Please open up imageCAN and review the results\n"
     ]
    }
   ],
   "source": [
    "#Visualize the data\n",
    "\n",
    "dot_data = tree.export_graphviz(reg_fit,out_file=None,\n",
    "                                    feature_names=x.columns,\n",
    "                                    class_names=False,impurity=False)\n",
    "dot_data = dot_data.replace(\" <= 0.5\",\"\")\n",
    "dot_data = dot_data.replace('labeldistance=2.5, labelangle=45, headlabel=\"True\"','labeldistance=2.5, labelangle=45, headlabel=\"False\"')\n",
    "dot_data = dot_data.replace('labeldistance=2.5, labelangle=-45, headlabel=\"False\"','labeldistance=2.5, labelangle=-45, headlabel=\"True\"')\n",
    "\n",
    "try:\n",
    "    import graphviz\n",
    "    graph = graphviz.Source(dot_data)\n",
    "    graph.render(\"TreeGraph_CAN\",view=True)\n",
    "    print('Please open up TreeGraph_CAN and review the results')\n",
    "except:\n",
    "    print('Please open up TreeGraph_CAN using a text editor, and paste the code here: https://dreampuf.github.io/GraphvizOnline/')\n"
   ]
  },
  {
   "cell_type": "markdown",
   "metadata": {},
   "source": [
    "<font color=blue> **Lastly, please submit your code along with the tree regression figure along with a brief description to interpret the results by next class.** </font>"
   ]
  }
 ],
 "metadata": {
  "kernelspec": {
   "display_name": "Python 3.7.6 64-bit ('base': conda)",
   "language": "python",
   "name": "python37664bitbasecondabb3a7218ba6148c2a273cdc999cc792d"
  },
  "language_info": {
   "codemirror_mode": {
    "name": "ipython",
    "version": 3
   },
   "file_extension": ".py",
   "mimetype": "text/x-python",
   "name": "python",
   "nbconvert_exporter": "python",
   "pygments_lexer": "ipython3",
   "version": "3.7.6"
  }
 },
 "nbformat": 4,
 "nbformat_minor": 4
}
